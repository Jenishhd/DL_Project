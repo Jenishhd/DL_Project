{
  "cells": [
    {
      "cell_type": "code",
      "execution_count": 3,
      "metadata": {
        "id": "PkMdW0Qo1zi5"
      },
      "outputs": [],
      "source": [
        "import tensorflow as tf\n",
        "from tensorflow.keras.preprocessing.image import ImageDataGenerator\n",
        "import matplotlib.pyplot as plt\n",
        "from tensorflow.keras import applications\n",
        "from tensorflow.keras.models import Sequential, Model, load_model\n",
        "from tensorflow.keras.layers import Dropout, Flatten, Dense\n",
        "from tensorflow.keras import optimizers\n",
        "from tensorflow.keras.callbacks import ModelCheckpoint\n",
        "from sklearn.model_selection import train_test_split\n",
        "import requests\n",
        "from PIL import Image\n",
        "from io import BytesIO\n",
        "import cv2\n",
        "import pandas as pd\n",
        "import numpy as np\n",
        "import os"
      ]
    },
    {
      "cell_type": "code",
      "execution_count": 4,
      "metadata": {
        "id": "MMMBsEg81zi7"
      },
      "outputs": [],
      "source": [
        "translate = {\"cane\": \"Dog\", \"cavallo\": \"Horse\", \"elefante\": \"Elephant\", \"farfalla\": \"Butterfly\", \"gallina\": \"Chicken\", \"gatto\": \"Cat\", \"mucca\": \"Cow\", \"pecora\": \"Sheep\", \"scoiattolo\": \"Squirrel\", \"ragno\": \"Spider\"}"
      ]
    },
    {
      "cell_type": "code",
      "execution_count": 11,
      "metadata": {
        "colab": {
          "base_uri": "https://localhost:8080/"
        },
        "id": "8IK4cz7B1zi7",
        "outputId": "d4a3a4be-e7e8-4715-c685-1c877dc12986"
      },
      "outputs": [
        {
          "name": "stdout",
          "output_type": "stream",
          "text": [
            "['cane', 'cavallo', 'elefante', 'farfalla', 'gallina', 'gatto', 'mucca', 'pecora', 'ragno', 'scoiattolo']\n"
          ]
        }
      ],
      "source": [
        "#Getting data from the kaggle dataset and extracting it\n",
        "print(os.listdir(\"raw-img/\"))\n",
        "FNS = os.listdir('raw-img/')\n",
        "f = []\n",
        "f2 = []\n",
        "t = []\n",
        "t2 = []\n",
        "\n",
        "#goes through each directory and gathers all 10 animals categories\n",
        "for i, dir in enumerate(FNS):\n",
        "    filenames = os.listdir(\"raw-img/\" + dir)\n",
        "    count = 0\n",
        "    for file in filenames:\n",
        "        if count < 1400:\n",
        "            f.append(\"raw-img/\" + dir + \"/\" + file)\n",
        "            t.append(translate[dir])\n",
        "        else:\n",
        "            f2.append(\"raw-img/\" + dir + \"/\" + file)\n",
        "            t2.append(translate[dir])\n",
        "        count += 1\n",
        "\n",
        "df = pd.DataFrame({'Filepath':f, 'Target':t})\n",
        "dft = pd.DataFrame({'Filepath':f2, 'Target':t2})\n",
        "\n",
        "#Splits the data into a train and test split with 80/20 split\n",
        "train, test = train_test_split(df, test_size=0.2, random_state = 0)"
      ]
    },
    {
      "cell_type": "code",
      "execution_count": 12,
      "metadata": {
        "colab": {
          "base_uri": "https://localhost:8080/"
        },
        "id": "DgVVFPfa1zi8",
        "outputId": "b8f9205e-d819-4818-9e76-1eabfd134870"
      },
      "outputs": [
        {
          "name": "stdout",
          "output_type": "stream",
          "text": [
            "Found 10000 non-validated image filenames belonging to 10 classes.\n",
            "Found 4000 non-validated image filenames belonging to 10 classes.\n"
          ]
        }
      ],
      "source": [
        "#We preprocess the data using ImageDataGenerator which applies zooms, flips, and rotations to the images\n",
        "animals_data = ImageDataGenerator(rescale=1./255,\n",
        "        shear_range=0.2,\n",
        "        zoom_range=0.2,\n",
        "        horizontal_flip=True,\n",
        "        rotation_range=30, \n",
        "        width_shift_range=0.1,\n",
        "        height_shift_range=0.1,\n",
        "        samplewise_center = True,\n",
        "        )\n",
        "\n",
        "animals_datatest = ImageDataGenerator(rescale=1./255, samplewise_center = True)\n",
        "#moves the data into flow set\n",
        "train_set = animals_data.flow_from_dataframe(train, x_col = 'Filepath', y_col = 'Target', target_size=(224, 224), interpolation = 'lanczos', validate_filenames = False)\n",
        "test_set = animals_datatest.flow_from_dataframe(test, x_col = 'Filepath', y_col = 'Target', target_size=(224, 224), interpolation = 'lanczos', validate_filenames = False)"
      ]
    },
    {
      "cell_type": "code",
      "execution_count": 13,
      "metadata": {
        "colab": {
          "base_uri": "https://localhost:8080/"
        },
        "id": "B9chbRuj1zi8",
        "outputId": "5b498652-c2ed-44a5-d387-99f9cf40aa7d"
      },
      "outputs": [
        {
          "name": "stdout",
          "output_type": "stream",
          "text": [
            "Model: \"model_1\"\n",
            "_________________________________________________________________\n",
            " Layer (type)                Output Shape              Param #   \n",
            "=================================================================\n",
            " input_2 (InputLayer)        [(None, 224, 224, 3)]     0         \n",
            "                                                                 \n",
            " block1_conv1 (Conv2D)       (None, 224, 224, 64)      1792      \n",
            "                                                                 \n",
            " block1_conv2 (Conv2D)       (None, 224, 224, 64)      36928     \n",
            "                                                                 \n",
            " block1_pool (MaxPooling2D)  (None, 112, 112, 64)      0         \n",
            "                                                                 \n",
            " block2_conv1 (Conv2D)       (None, 112, 112, 128)     73856     \n",
            "                                                                 \n",
            " block2_conv2 (Conv2D)       (None, 112, 112, 128)     147584    \n",
            "                                                                 \n",
            " block2_pool (MaxPooling2D)  (None, 56, 56, 128)       0         \n",
            "                                                                 \n",
            " block3_conv1 (Conv2D)       (None, 56, 56, 256)       295168    \n",
            "                                                                 \n",
            " block3_conv2 (Conv2D)       (None, 56, 56, 256)       590080    \n",
            "                                                                 \n",
            " block3_conv3 (Conv2D)       (None, 56, 56, 256)       590080    \n",
            "                                                                 \n",
            " block3_pool (MaxPooling2D)  (None, 28, 28, 256)       0         \n",
            "                                                                 \n",
            " block4_conv1 (Conv2D)       (None, 28, 28, 512)       1180160   \n",
            "                                                                 \n",
            " block4_conv2 (Conv2D)       (None, 28, 28, 512)       2359808   \n",
            "                                                                 \n",
            " block4_conv3 (Conv2D)       (None, 28, 28, 512)       2359808   \n",
            "                                                                 \n",
            " block4_pool (MaxPooling2D)  (None, 14, 14, 512)       0         \n",
            "                                                                 \n",
            " block5_conv1 (Conv2D)       (None, 14, 14, 512)       2359808   \n",
            "                                                                 \n",
            " block5_conv2 (Conv2D)       (None, 14, 14, 512)       2359808   \n",
            "                                                                 \n",
            " block5_conv3 (Conv2D)       (None, 14, 14, 512)       2359808   \n",
            "                                                                 \n",
            " block5_pool (MaxPooling2D)  (None, 7, 7, 512)         0         \n",
            "                                                                 \n",
            " flatten_1 (Flatten)         (None, 25088)             0         \n",
            "                                                                 \n",
            " dropout_2 (Dropout)         (None, 25088)             0         \n",
            "                                                                 \n",
            " dense_2 (Dense)             (None, 256)               6422784   \n",
            "                                                                 \n",
            " dropout_3 (Dropout)         (None, 256)               0         \n",
            "                                                                 \n",
            " dense_3 (Dense)             (None, 10)                2570      \n",
            "                                                                 \n",
            "=================================================================\n",
            "Total params: 21,140,042\n",
            "Trainable params: 21,140,042\n",
            "Non-trainable params: 0\n",
            "_________________________________________________________________\n"
          ]
        },
        {
          "name": "stderr",
          "output_type": "stream",
          "text": [
            "c:\\Python39\\lib\\site-packages\\keras\\optimizer_v2\\gradient_descent.py:102: UserWarning: The `lr` argument is deprecated, use `learning_rate` instead.\n",
            "  super(SGD, self).__init__(name, **kwargs)\n"
          ]
        }
      ],
      "source": [
        "model = applications.VGG16(weights='imagenet', include_top = False, input_shape=(224, 224, 3))\n",
        "\n",
        "flat1 = tf.keras.layers.Flatten()(model.output)\n",
        "dropout1 = Dropout(0.1)(flat1)\n",
        "class1 = tf.keras.layers.Dense(256, activation='relu')(dropout1)\n",
        "dropout2 = Dropout(0.1)(class1)\n",
        "output = tf.keras.layers.Dense(10, activation='softmax')(dropout2)\n",
        "model = Model(inputs = model.inputs, outputs = output)\n",
        "\n",
        "reduce_lr = tf.keras.callbacks.ReduceLROnPlateau(monitor = 'val_loss', factor = 0.2, patience = 1, verbose = 1, min_delta=0.0001, min_lr = 1e-8)\n",
        "\n",
        "model.compile(loss = 'categorical_crossentropy', optimizer = optimizers.SGD(lr=1e-3, momentum=0.9), metrics = ['accuracy'])\n",
        "model.summary()"
      ]
    },
    {
      "cell_type": "code",
      "execution_count": 16,
      "metadata": {
        "colab": {
          "base_uri": "https://localhost:8080/"
        },
        "id": "Hq5xSZut1zi9",
        "outputId": "793fda03-a091-46e9-d065-b48ff8ca5a1c"
      },
      "outputs": [
        {
          "name": "stdout",
          "output_type": "stream",
          "text": [
            "Epoch 1/5\n",
            "313/313 [==============================] - ETA: 0s - loss: 0.6097 - accuracy: 0.7940INFO:tensorflow:Assets written to: VGG16.model\\assets\n",
            "313/313 [==============================] - 2058s 7s/step - loss: 0.6097 - accuracy: 0.7940 - val_loss: 0.3786 - val_accuracy: 0.8735 - lr: 0.0010\n",
            "Epoch 2/5\n",
            "313/313 [==============================] - ETA: 0s - loss: 0.3733 - accuracy: 0.8771INFO:tensorflow:Assets written to: VGG16.model\\assets\n",
            "\n",
            "Epoch 2: ReduceLROnPlateau reducing learning rate to 0.00020000000949949026.\n",
            "313/313 [==============================] - 2042s 7s/step - loss: 0.3733 - accuracy: 0.8771 - val_loss: 0.3936 - val_accuracy: 0.8805 - lr: 0.0010\n",
            "Epoch 3/5\n",
            "313/313 [==============================] - ETA: 0s - loss: 0.2040 - accuracy: 0.9374INFO:tensorflow:Assets written to: VGG16.model\\assets\n",
            "313/313 [==============================] - 2214s 7s/step - loss: 0.2040 - accuracy: 0.9374 - val_loss: 0.1912 - val_accuracy: 0.9442 - lr: 2.0000e-04\n",
            "Epoch 4/5\n",
            "313/313 [==============================] - ETA: 0s - loss: 0.1651 - accuracy: 0.9467INFO:tensorflow:Assets written to: VGG16.model\\assets\n",
            "\n",
            "Epoch 4: ReduceLROnPlateau reducing learning rate to 4.0000001899898055e-05.\n",
            "313/313 [==============================] - 2167s 7s/step - loss: 0.1651 - accuracy: 0.9467 - val_loss: 0.2023 - val_accuracy: 0.9373 - lr: 2.0000e-04\n",
            "Epoch 5/5\n",
            "313/313 [==============================] - ETA: 0s - loss: 0.1374 - accuracy: 0.9585INFO:tensorflow:Assets written to: VGG16.model\\assets\n",
            "313/313 [==============================] - 2242s 7s/step - loss: 0.1374 - accuracy: 0.9585 - val_loss: 0.1776 - val_accuracy: 0.9490 - lr: 4.0000e-05\n"
          ]
        }
      ],
      "source": [
        "history = model.fit(train_set, epochs = 5, validation_data = test_set, callbacks=[ModelCheckpoint('VGG16.model', monitor='val_acc'), reduce_lr])"
      ]
    },
    {
      "cell_type": "code",
      "execution_count": 21,
      "metadata": {
        "id": "cqF90OUz1zi9"
      },
      "outputs": [
        {
          "name": "stdout",
          "output_type": "stream",
          "text": [
            "[0.3785645663738251, 0.3936253488063812, 0.1911696046590805, 0.2023395597934723, 0.17764534056186676]\n",
            "[0.8734999895095825, 0.8805000185966492, 0.9442499876022339, 0.937250018119812, 0.9490000009536743]\n"
          ]
        },
        {
          "data": {
            "image/png": "[encoded data removed]",
            "text/plain": [
              "<Figure size 1296x360 with 2 Axes>"
            ]
          },
          "metadata": {
            "needs_background": "light"
          },
          "output_type": "display_data"
        },
        {
          "name": "stderr",
          "output_type": "stream",
          "text": [
            "The PostScript backend does not support transparency; partially transparent artists will be rendered opaque.\n"
          ]
        }
      ],
      "source": [
        "#Graphing the validation and traing loss/accuracy\n",
        "loss_vals = history.history['loss']\n",
        "val_loss_vals = history.history['val_loss']\n",
        "epochs = range(1, len(history.history['accuracy'])+1)\n",
        "print(val_loss_vals)\n",
        "\n",
        "f, graphs = plt.subplots(nrows=1,ncols=2,figsize=(18,5))\n",
        "    \n",
        "graphs[0].plot(epochs, loss_vals,  marker='.', label='Training Loss')\n",
        "graphs[0].plot(epochs, val_loss_vals, marker='.', color = 'blue', label='Validation Loss')\n",
        "graphs[0].set_title('Training & Validation Loss')\n",
        "graphs[0].set_xlabel('Epochs')\n",
        "graphs[0].set_ylabel('Loss')\n",
        "graphs[0].legend(loc='best')\n",
        "graphs[0].grid(True)\n",
        "\n",
        "acc_vals = history.history['accuracy']\n",
        "val_acc_vals = history.history['val_accuracy']\n",
        "print(val_acc_vals)\n",
        "graphs[1].plot(epochs, acc_vals, marker='.', label='Training Accuracy')\n",
        "graphs[1].plot(epochs, val_acc_vals, marker='.', color = 'blue', label='Validation Accuracy')\n",
        "graphs[1].set_title('Training & Validation Accuracy')\n",
        "graphs[1].set_xlabel('Epochs')\n",
        "graphs[1].set_ylabel('Accuracy')\n",
        "graphs[1].legend(loc='best')\n",
        "graphs[1].grid(True)\n",
        "\n",
        "plt.show()\n",
        "plt.close()"
      ]
    }
  ],
  "metadata": {
    "accelerator": "GPU",
    "colab": {
      "machine_shape": "hm",
      "name": "cnn-vgg-animals10.ipynb",
      "provenance": []
    },
    "interpreter": {
      "hash": "81794d4967e6c3204c66dcd87b604927b115b27c00565d3d43f05ba2f3a2cb0d"
    },
    "kernelspec": {
      "display_name": "Python 3.9.7 64-bit",
      "language": "python",
      "name": "python3"
    },
    "language_info": {
      "codemirror_mode": {
        "name": "ipython",
        "version": 3
      },
      "file_extension": ".py",
      "mimetype": "text/x-python",
      "name": "python",
      "nbconvert_exporter": "python",
      "pygments_lexer": "ipython3",
      "version": "3.9.7"
    }
  },
  "nbformat": 4,
  "nbformat_minor": 0
}
