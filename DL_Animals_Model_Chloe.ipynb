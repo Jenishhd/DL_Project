{
  "nbformat": 4,
  "nbformat_minor": 0,
  "metadata": {
    "colab": {
      "name": "DL_Animals_Model_Chloe.ipynb",
      "provenance": [],
      "mount_file_id": "1fX_nhSnmO2NOEfScRx25LM21eoxFZ0qn",
      "authorship_tag": "ABX9TyP02o1MsHIfC634ri9qeetp",
      "include_colab_link": true
    },
    "kernelspec": {
      "name": "python3",
      "display_name": "Python 3"
    },
    "language_info": {
      "name": "python"
    }
  },
  "cells": [
    {
      "cell_type": "markdown",
      "metadata": {
        "id": "view-in-github",
        "colab_type": "text"
      },
      "source": [
        "<a href=\"https://colab.research.google.com/github/Jenishhd/DL_Project/blob/main/DL_Animals_Model_Chloe.ipynb\" target=\"_parent\"><img src=\"https://colab.research.google.com/assets/colab-badge.svg\" alt=\"Open In Colab\"/></a>"
      ]
    },
    {
      "cell_type": "code",
      "execution_count": 3,
      "metadata": {
        "id": "3_16SrQLaUSD"
      },
      "outputs": [],
      "source": [
        "import zipfile\n",
        "import os\n",
        "#!wget --no-check-certificate \\\n",
        "#  'https://docs.google.com/uc?export=download&id=1APCpt2hFvu7-zfEDbfonldFnU7kXBJ6b'\\\n",
        "#  -O \"/tmp/archive.zip\"\n",
        "\n",
        "#!wget --load-cookies /tmp/cookies.txt \"https://docs.google.com/uc?export=download&confirm=$(wget --quiet --save-cookies /tmp/cookies.txt --keep-session-cookies --no-check-certificate 'https://docs.google.com/uc?export=download&id=1APCpt2hFvu7-zfEDbfonldFnU7kXBJ6b' -O- | sed -rn 's/.*confirm=([0-9A-Za-z_]+).*/\\1\\n/p')&id=1APCpt2hFvu7-zfEDbfonldFnU7kXBJ6b\" -O '/tmp/archive.zip' && rm -rf /tmp/cookies.txt\n",
        "\n"
      ]
    },
    {
      "cell_type": "code",
      "source": [
        "#zip_ref = zipfile.ZipFile('/tmp/archive.zip', 'r') #Opens the zip file in read mode\n",
        "zip_ref = zipfile.ZipFile('/content/drive/MyDrive/Csulb/Spring 2022 (Last Semester!)/CECS 456 Machine Learning/CECS456_Project/archive.zip', 'r') #Opens the zip file in read mode\n",
        "zip_ref.extractall('/tmp') #Extracts the files into the /tmp folder\n",
        "zip_ref.close()"
      ],
      "metadata": {
        "id": "E3iw3IC2u5qL"
      },
      "execution_count": 4,
      "outputs": []
    },
    {
      "cell_type": "code",
      "source": [
        "len(os.listdir('/tmp/raw-img/'))"
      ],
      "metadata": {
        "colab": {
          "base_uri": "https://localhost:8080/"
        },
        "id": "eGuSEv4vcb-o",
        "outputId": "62788761-11a9-4669-e88a-d97c0a14596d"
      },
      "execution_count": 6,
      "outputs": [
        {
          "output_type": "execute_result",
          "data": {
            "text/plain": [
              "10"
            ]
          },
          "metadata": {},
          "execution_count": 6
        }
      ]
    },
    {
      "cell_type": "code",
      "source": [
        "print(\"dogs\",len(os.listdir('/tmp/raw-img/cane')))\n",
        "print(\"horse\",len(os.listdir('/tmp/raw-img/cavallo')))\n",
        "print(\"elefant\",len(os.listdir('/tmp/raw-img/elefante')))\n",
        "print(\"butterfly\",len(os.listdir('/tmp/raw-img/farfalla')))\n",
        "print(\"chicken\",len(os.listdir('/tmp/raw-img/gallina')))\n",
        "print(\"cat\",len(os.listdir('/tmp/raw-img/gatto')))\n",
        "print(\"cow\",len(os.listdir('/tmp/raw-img/mucca')))\n",
        "print(\"sheep\",len(os.listdir('/tmp/raw-img/pecora')))\n",
        "print(\"spider\",len(os.listdir('/tmp/raw-img/ragno')))\n",
        "print(\"squirrel\",len(os.listdir('/tmp/raw-img/scoiattolo')))"
      ],
      "metadata": {
        "colab": {
          "base_uri": "https://localhost:8080/"
        },
        "id": "KP1saAWG2YHz",
        "outputId": "da2ed266-ad31-466f-cd79-35b90ed31bcc"
      },
      "execution_count": 5,
      "outputs": [
        {
          "output_type": "stream",
          "name": "stdout",
          "text": [
            "dogs 4863\n",
            "horse 2623\n",
            "elefant 1446\n",
            "butterfly 2112\n",
            "chicken 3098\n",
            "cat 1668\n",
            "cow 1866\n",
            "sheep 1820\n",
            "spider 4821\n",
            "squirrel 1862\n"
          ]
        }
      ]
    },
    {
      "cell_type": "code",
      "source": [
        "import tensorflow as tf\n",
        "from tensorflow import keras\n",
        "import sklearn\n",
        "import numpy as np\n",
        "np.random.seed(42)\n",
        "import matplotlib as mpl\n",
        "import matplotlib.pyplot as plt\n",
        "\n"
      ],
      "metadata": {
        "id": "aaUIFbg0fLi5"
      },
      "execution_count": null,
      "outputs": []
    }
  ]
}